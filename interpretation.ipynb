{
 "cells": [
  {
   "cell_type": "markdown",
   "id": "9395b2ec",
   "metadata": {},
   "source": [
    "１．音声認識\n"
   ]
  },
  {
   "cell_type": "code",
   "execution_count": null,
   "id": "2103266b-4d38-401d-b245-8695422fd1c9",
   "metadata": {},
   "outputs": [],
   "source": [
    "#音声認識パッケージ\n",
    "!pip install SpeechRecognition"
   ]
  },
  {
   "cell_type": "code",
   "execution_count": null,
   "id": "0ed0120e-a242-4b41-95e4-98f2703f1513",
   "metadata": {},
   "outputs": [],
   "source": [
    "import speech_recognition as sr\n",
    "#デバイスの確認\n",
    "for index, name in enumerate(sr.Microphone.list_microphone_names()):\n",
    "    print(\"Microphone with name \\\"{1}\\\" found for `Microphone(device_index={0})`\".format(index, name))"
   ]
  },
  {
   "cell_type": "code",
   "execution_count": 3,
   "id": "dc7d0e54-ae3a-4289-85cc-c7e246635c96",
   "metadata": {},
   "outputs": [
    {
     "name": "stdout",
     "output_type": "stream",
     "text": [
      "何か話してください\n",
      "音声取得完了！\n",
      "夢ならばどれだけよかったでしょう\n"
     ]
    }
   ],
   "source": [
    "import speech_recognition as sr\n",
    "#通話認識\n",
    "r = sr.Recognizer()\n",
    "\n",
    "with sr.Microphone()as source:\n",
    "    print('何か話してください')\n",
    "    audio = r.listen(source)\n",
    "    print('音声取得完了！')\n",
    "    \n",
    "#日本語を認識して文字起こし\n",
    "recognized_text = r.recognize_google(audio, language='ja-JP')\n",
    "#文字起こし\n",
    "print(recognized_text)"
   ]
  },
  {
   "cell_type": "code",
   "execution_count": 4,
   "id": "b02d8c0d-a605-4286-b2fd-eae7a81b5cbb",
   "metadata": {
    "scrolled": true
   },
   "outputs": [
    {
     "name": "stdout",
     "output_type": "stream",
     "text": [
      "聞き取り中...\n",
      "梅ならばどれだけよかったでしょう\n"
     ]
    }
   ],
   "source": [
    "import speech_recognition as sr\n",
    "\n",
    "r = sr.Recognizer()\n",
    "\n",
    "with sr.Microphone() as source:\n",
    "    r.adjust_for_ambient_noise(source)\n",
    "    print(\"聞き取り中...\")\n",
    "    audio = r.listen(source)\n",
    "    #例外処理付きで聞き取り\n",
    "    try:\n",
    "        query = r.recognize_google(audio, language='ja-JP')\n",
    "        print(query)\n",
    "    except Exception:\n",
    "        print(\"Error\")\n"
   ]
  },
  {
   "cell_type": "code",
   "execution_count": null,
   "id": "bcd82eea-8a99-450c-9c72-dc41c53220b3",
   "metadata": {},
   "outputs": [],
   "source": [
    "２．翻訳処理"
   ]
  },
  {
   "cell_type": "code",
   "execution_count": null,
   "id": "48603160-f3e6-41a2-a2ad-2b917fd79396",
   "metadata": {},
   "outputs": [],
   "source": [
    "#翻訳パッケージインストール\n",
    "!pip install googletrans==4.0.0-rc1\n",
    "#!pip install googletrans==3.1.0a0"
   ]
  },
  {
   "cell_type": "code",
   "execution_count": 6,
   "id": "166c942a-f19d-4d0d-b7a6-6aa278ac005c",
   "metadata": {},
   "outputs": [
    {
     "name": "stdout",
     "output_type": "stream",
     "text": [
      "google-api-core                                   2.11.1\n",
      "google-auth                                       2.22.0\n",
      "google-auth-oauthlib                              0.4.1\n",
      "google-cloud-core                                 2.3.3\n",
      "google-cloud-translate                            3.12.0\n",
      "google-pasta                                      0.2.0\n",
      "googleapis-common-protos                          1.60.0\n",
      "googletrans                                       4.0.0rc1\n"
     ]
    }
   ],
   "source": [
    "#google関連のpip list確認\n",
    "!pip3 list | grep google"
   ]
  },
  {
   "cell_type": "code",
   "execution_count": 7,
   "id": "e50a3f47-815a-4e03-8293-c6882070dc2d",
   "metadata": {},
   "outputs": [
    {
     "name": "stdout",
     "output_type": "stream",
     "text": [
      "こんにちは\n"
     ]
    }
   ],
   "source": [
    "from googletrans import Translator\n",
    "#翻訳オブジェクト生成\n",
    "tr = Translator()\n",
    "#日本語→英語　に翻訳\n",
    "result = tr.translate(\"hello\", src='en', dest='ja').text\n",
    "print(result)"
   ]
  },
  {
   "cell_type": "code",
   "execution_count": 8,
   "id": "21e3805e",
   "metadata": {},
   "outputs": [
    {
     "name": "stdout",
     "output_type": "stream",
     "text": [
      "Listening...\n",
      "夢ならばどれだけよかったでしょう\n"
     ]
    }
   ],
   "source": [
    "#音声認識してファイルに書き出し\n",
    "import speech_recognition as sr\n",
    "\n",
    "\n",
    "r = sr.Recognizer()\n",
    "with sr.Microphone() as source:\n",
    "    r.adjust_for_ambient_noise(source)\n",
    "    print(\"Listening...\")\n",
    "    audio = r.listen(source)\n",
    "    try:\n",
    "        query = r.recognize_google(audio, language='ja-JP')\n",
    "        print(query)\n",
    "        #\n",
    "        with open('koerec.txt','w') as f:\n",
    "            f.write(query)\n",
    "    except Exception:\n",
    "        print(\"Error\")"
   ]
  },
  {
   "cell_type": "code",
   "execution_count": 9,
   "id": "1dc9e7d2-1d10-4fb2-b8ec-43a40514d0d8",
   "metadata": {},
   "outputs": [
    {
     "name": "stdout",
     "output_type": "stream",
     "text": [
      "How good it would have been to a dream, I still dream of you, and I will pay the dust of an old memory so that I returned to get an forgotten thing.\n"
     ]
    }
   ],
   "source": [
    "from googletrans import Translator\n",
    "\n",
    "translator = Translator()\n",
    "text_ja = \"夢ならばどれほどよかったでしょう、未だにあなたのことを夢にみる、忘れた物を取りに帰るように、古びた思い出の埃を払う。\"\n",
    "#英語に翻訳\n",
    "text_en = translator.translate(text_ja, src='ja', dest='en').text\n",
    "\n",
    "print(text_en) \n"
   ]
  },
  {
   "cell_type": "code",
   "execution_count": null,
   "id": "261e5c9e-cabe-43e1-94ff-85ce8a81790f",
   "metadata": {},
   "outputs": [],
   "source": [
    "３．テキストを音声に変換"
   ]
  },
  {
   "cell_type": "code",
   "execution_count": null,
   "id": "866698b2-3fef-4493-8d7d-616ca5149c3f",
   "metadata": {},
   "outputs": [],
   "source": [
    "#テキスト音声変換パッケージ\n",
    "!pip install gTTS"
   ]
  },
  {
   "cell_type": "code",
   "execution_count": null,
   "id": "8ed93abb-dfbb-4eb1-93a2-ceb74ce081e8",
   "metadata": {},
   "outputs": [],
   "source": [
    "#再生パッケージ\n",
    "!pip3 install playsound"
   ]
  },
  {
   "cell_type": "code",
   "execution_count": null,
   "id": "55609074",
   "metadata": {},
   "outputs": [],
   "source": [
    "#音声再生パッケージ\n",
    "!pip install pygame"
   ]
  },
  {
   "cell_type": "code",
   "execution_count": 13,
   "id": "cbe5e914-06b2-42bb-8204-50936f733345",
   "metadata": {},
   "outputs": [],
   "source": [
    "#ファイルに保存してから出力\n",
    "from gtts import gTTS\n",
    "from playsound import playsound\n",
    "\n",
    "#出力ファイル\n",
    "out_mp3 = 'gTTS_tmp.mp3'\n",
    "#出力元テキスト\n",
    "text_ja = '夢ならばどれほどよかったでしょう、未だにあなたのことを夢にみる、忘れた物を取りに帰るように、古びた思い出の埃を払う'\n",
    " \n",
    "tts = gTTS(text_ja, lang='ja') \n",
    "#tts = gTTS(text_en, lang='en') \n",
    "\n",
    "#音声ファイルに出力\n",
    "tts.save(out_mp3)\n",
    "#再生\n",
    "playsound(out_mp3)"
   ]
  },
  {
   "cell_type": "code",
   "execution_count": 14,
   "id": "8754d499",
   "metadata": {},
   "outputs": [
    {
     "name": "stdout",
     "output_type": "stream",
     "text": [
      "pygame 2.5.1 (SDL 2.28.2, Python 3.9.17)\n",
      "Hello from the pygame community. https://www.pygame.org/contribute.html\n"
     ]
    }
   ],
   "source": [
    "#ファイルに保存せず音声出力\n",
    "from gtts import gTTS\n",
    "from io import BytesIO\n",
    "from pygame import mixer\n",
    "\n",
    "\n",
    "s = '幸せになりたい、らくしていきたい、この手に掴みたい、あなたのその胸の中。'\n",
    "\n",
    "mixer.init()\n",
    "mp3_fp = BytesIO()\n",
    "tts = gTTS(s, lang='ja')\n",
    "tts.write_to_fp(mp3_fp)\n",
    "\n",
    "mp3_fp.seek(0, 0)\n",
    "mixer.music.load(mp3_fp)\n",
    "mixer.music.play(1)\n"
   ]
  },
  {
   "cell_type": "code",
   "execution_count": 15,
   "id": "ebc2741a-c277-4121-a121-439c9ceb85cd",
   "metadata": {},
   "outputs": [],
   "source": [
    "mp3_fp.close()"
   ]
  }
 ],
 "metadata": {
  "kernelspec": {
   "display_name": "Python 3 (ipykernel)",
   "language": "python",
   "name": "python3"
  },
  "language_info": {
   "codemirror_mode": {
    "name": "ipython",
    "version": 3
   },
   "file_extension": ".py",
   "mimetype": "text/x-python",
   "name": "python",
   "nbconvert_exporter": "python",
   "pygments_lexer": "ipython3",
   "version": "3.9.17"
  }
 },
 "nbformat": 4,
 "nbformat_minor": 5
}
